{
 "cells": [
  {
   "cell_type": "markdown",
   "metadata": {},
   "source": [
    "<h2 align='center'> Assisgnmnet 1 </h2>\n",
    "\n",
    "<hr>\n",
    "\n",
    "### Ques1.  Given the following jumbled word, 'OBANWRI' guess the correct English word. \n",
    "- A. RANIBOW\n",
    "- B. RAINBOW\n",
    "- C. BOWRANI\n",
    "- D. ROBWANI"
   ]
  },
  {
   "cell_type": "code",
   "execution_count": 1,
   "metadata": {},
   "outputs": [
    {
     "name": "stdout",
     "output_type": "stream",
     "text": [
      "Option RAINBOW is correct\n"
     ]
    }
   ],
   "source": [
    "word = 'OBANWRI'\n",
    "given_word = ['RANIBOW', 'RAINBOW', 'BOWRANI', 'ROBWANI']\n",
    "correct = 'RAINBOW'\n",
    "for i in given_word:\n",
    "    if i == correct: \n",
    "        print(\"Option\", i, \"is correct\")\n",
    "        break\n",
    "else:\n",
    "    print(\"All Options are incorrect\")"
   ]
  },
  {
   "cell_type": "markdown",
   "metadata": {},
   "source": [
    "### Ques2. Write a program which prints “LETS UPGRADE”.\n",
    "\n",
    "(Please note that you have to print in ALL CAPS as given)"
   ]
  },
  {
   "cell_type": "code",
   "execution_count": 2,
   "metadata": {},
   "outputs": [
    {
     "name": "stdout",
     "output_type": "stream",
     "text": [
      "LETS UPGRADE\n",
      "------------------\n",
      "word taken: lets upgrade\n",
      "word in uppercase:  LETS UPGRADE\n"
     ]
    }
   ],
   "source": [
    "# simplest way \n",
    "print(\"LETS UPGRADE\")\n",
    "\n",
    "print('------------------')\n",
    "\n",
    "# by using function: \n",
    "word = 'lets upgrade'\n",
    "print(\"word taken:\", word)\n",
    "print(\"word in uppercase: \", word.upper())"
   ]
  },
  {
   "cell_type": "markdown",
   "metadata": {},
   "source": [
    "### Ques3. Write a program that takes cost price and selling price as input and displays whether the transaction is a Profit or a Loss or Neither.\n",
    "\n",
    "#### INPUT FORMAT\n",
    "- The first line contains the cost price.\n",
    "- The second line contains the selling price.\n",
    "#### OUTPUT FORMAT\n",
    "- Print \"Profit\" if the transaction is a profit or \"Loss\" if it is a loss. If it is neither\n",
    "- profit nor loss, print \"Neither\"."
   ]
  },
  {
   "cell_type": "code",
   "execution_count": 3,
   "metadata": {},
   "outputs": [
    {
     "name": "stdout",
     "output_type": "stream",
     "text": [
      "23\n",
      "7\n",
      "Loss\n"
     ]
    }
   ],
   "source": [
    "cp = eval(input())\n",
    "sp = eval(input())\n",
    "if sp>cp:\n",
    "    print(\"Profit\")\n",
    "elif sp<cp:\n",
    "    print(\"Loss\")\n",
    "else:\n",
    "    print(\"Neither\")"
   ]
  },
  {
   "cell_type": "markdown",
   "metadata": {},
   "source": [
    "### Ques4. Write a program that takes an amount in Euros as input. You need to find its equivalent inRupees and display it. ( Assume 1 Euro equals Rs. 80 )"
   ]
  },
  {
   "cell_type": "code",
   "execution_count": 4,
   "metadata": {},
   "outputs": [
    {
     "name": "stdout",
     "output_type": "stream",
     "text": [
      "35\n",
      "2800\n"
     ]
    }
   ],
   "source": [
    "euro = eval(input())\n",
    "Inrupee =  euro * 80 \n",
    "print(Inrupee)"
   ]
  },
  {
   "cell_type": "code",
   "execution_count": null,
   "metadata": {},
   "outputs": [],
   "source": []
  }
 ],
 "metadata": {
  "kernelspec": {
   "display_name": "Python 3",
   "language": "python",
   "name": "python3"
  },
  "language_info": {
   "codemirror_mode": {
    "name": "ipython",
    "version": 3
   },
   "file_extension": ".py",
   "mimetype": "text/x-python",
   "name": "python",
   "nbconvert_exporter": "python",
   "pygments_lexer": "ipython3",
   "version": "3.8.3"
  }
 },
 "nbformat": 4,
 "nbformat_minor": 4
}
