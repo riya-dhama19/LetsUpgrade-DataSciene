{
 "cells": [
  {
   "cell_type": "markdown",
   "metadata": {},
   "source": [
    "<h2 align='center'> Assignment 3 </h2>"
   ]
  },
  {
   "cell_type": "code",
   "execution_count": 1,
   "metadata": {},
   "outputs": [],
   "source": [
    "import numpy as np"
   ]
  },
  {
   "cell_type": "markdown",
   "metadata": {},
   "source": [
    "### Ques1. Create a numpy array starting from 2 till 50 with a stepsize of 3."
   ]
  },
  {
   "cell_type": "code",
   "execution_count": 2,
   "metadata": {},
   "outputs": [
    {
     "data": {
      "text/plain": [
       "array([ 2,  5,  8, 11, 14, 17, 20, 23, 26, 29, 32, 35, 38, 41, 44, 47, 50])"
      ]
     },
     "execution_count": 2,
     "metadata": {},
     "output_type": "execute_result"
    }
   ],
   "source": [
    "np.arange(2,51,3)"
   ]
  },
  {
   "cell_type": "markdown",
   "metadata": {},
   "source": [
    "### Ques2. Accept two lists of 5 elements each from the user. Convert them to numpy arrays. Concatenate these arrays and print it. Also sort these arrays and print it."
   ]
  },
  {
   "cell_type": "code",
   "execution_count": 3,
   "metadata": {},
   "outputs": [
    {
     "name": "stdout",
     "output_type": "stream",
     "text": [
      "[1,24,57,4,78]\n",
      "[48,2,34,49,50]\n",
      "Concatenated arrays:  [ 1 24 57  4 78 48  2 34 49 50]\n",
      "Sorted Arrays:  [ 1  2  4 24 34 48 49 50 57 78]\n"
     ]
    }
   ],
   "source": [
    "l1 = eval(input())\n",
    "l2 = eval(input())\n",
    "\n",
    "n1 = np.array(l1)\n",
    "n2 = np.array(l2)\n",
    "\n",
    "n3 = np.concatenate((n1,n2))\n",
    "print(\"Concatenated arrays: \", n3)\n",
    "\n",
    "n4 = np.sort(n3)\n",
    "print(\"Sorted Arrays: \", n4)"
   ]
  },
  {
   "cell_type": "markdown",
   "metadata": {},
   "source": [
    "### Ques3. Write a code snippet to find the dimensions of a ndarray and its size."
   ]
  },
  {
   "cell_type": "code",
   "execution_count": 4,
   "metadata": {},
   "outputs": [
    {
     "name": "stdout",
     "output_type": "stream",
     "text": [
      "[[ 0  1  2  3]\n",
      " [ 4  5  6  7]\n",
      " [ 8  9 10 11]]\n",
      "\n",
      "dimension of ndarray:  2\n",
      "shape of ndarray:  (3, 4)\n",
      "size of ndarray:  12\n"
     ]
    }
   ],
   "source": [
    "a = np.arange(12).reshape((3, 4)) # 3x4 matrix --- 2d array therefore: dimension is 2 \n",
    "print(a)\n",
    "print(\"\\ndimension of ndarray: \", a.ndim)\n",
    "print(\"shape of ndarray: \", a.shape)\n",
    "print(\"size of ndarray: \", a.size)"
   ]
  },
  {
   "cell_type": "markdown",
   "metadata": {},
   "source": [
    "### Ques4. How to convert a 1D array into a 2D array? Demonstrate with the help of a code snippet"
   ]
  },
  {
   "cell_type": "code",
   "execution_count": 5,
   "metadata": {},
   "outputs": [
    {
     "name": "stdout",
     "output_type": "stream",
     "text": [
      "1d array:  (2,)\n",
      "1d converted to 2d array:  (1, 2)\n",
      "1d converted to 2d array:  (2, 1)\n"
     ]
    }
   ],
   "source": [
    "x = np.array([1, 2])\n",
    "print(\"1d array: \", x.shape)\n",
    "\n",
    "y = np.expand_dims(x, axis=0)\n",
    "print(\"1d converted to 2d array: \", y.shape)\n",
    "\n",
    "y = np.expand_dims(x, axis=1)\n",
    "print(\"1d converted to 2d array: \", y.shape)"
   ]
  },
  {
   "cell_type": "markdown",
   "metadata": {},
   "source": [
    "### Ques5. Consider two square numpy arrays. Stack them vertically and horizontally."
   ]
  },
  {
   "cell_type": "code",
   "execution_count": 6,
   "metadata": {},
   "outputs": [
    {
     "name": "stdout",
     "output_type": "stream",
     "text": [
      "Horizontal Append:\n",
      " [1 2 3 4 5 6]\n",
      "\n",
      "Vertical Append:\n",
      " [[1 2 3]\n",
      " [4 5 6]]\n"
     ]
    }
   ],
   "source": [
    "a = np.array([1,2,3])\n",
    "b = np.array([4,5,6])\n",
    "\n",
    "print('Horizontal Append:\\n', np.hstack((a, b)))\n",
    "print('\\nVertical Append:\\n', np.vstack((a, b)))"
   ]
  },
  {
   "cell_type": "markdown",
   "metadata": {},
   "source": [
    "### Ques6. How to get unique items and counts of unique items?"
   ]
  },
  {
   "cell_type": "code",
   "execution_count": 7,
   "metadata": {},
   "outputs": [
    {
     "name": "stdout",
     "output_type": "stream",
     "text": [
      "Unique item:  [ 1  4 24 56 57 78 88]\n",
      "Count of unique item:  7\n"
     ]
    }
   ],
   "source": [
    "x = [1,4,57,4,78,1,24,56,88]\n",
    "print(\"Unique item: \", np.unique(x))\n",
    "print(\"Count of unique item: \", len(np.unique(x)))"
   ]
  },
  {
   "cell_type": "code",
   "execution_count": null,
   "metadata": {},
   "outputs": [],
   "source": []
  }
 ],
 "metadata": {
  "kernelspec": {
   "display_name": "Python 3",
   "language": "python",
   "name": "python3"
  },
  "language_info": {
   "codemirror_mode": {
    "name": "ipython",
    "version": 3
   },
   "file_extension": ".py",
   "mimetype": "text/x-python",
   "name": "python",
   "nbconvert_exporter": "python",
   "pygments_lexer": "ipython3",
   "version": "3.8.3"
  }
 },
 "nbformat": 4,
 "nbformat_minor": 4
}
